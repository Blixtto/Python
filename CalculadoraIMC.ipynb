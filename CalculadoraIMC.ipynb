{
  "nbformat": 4,
  "nbformat_minor": 0,
  "metadata": {
    "colab": {
      "provenance": [],
      "authorship_tag": "ABX9TyM8a5WDZqc81Wb+iZNkFRO6",
      "include_colab_link": true
    },
    "kernelspec": {
      "name": "python3",
      "display_name": "Python 3"
    },
    "language_info": {
      "name": "python"
    }
  },
  "cells": [
    {
      "cell_type": "markdown",
      "metadata": {
        "id": "view-in-github",
        "colab_type": "text"
      },
      "source": [
        "<a href=\"https://colab.research.google.com/github/Blixtto/Python/blob/main/CalculadoraIMC.ipynb\" target=\"_parent\"><img src=\"https://colab.research.google.com/assets/colab-badge.svg\" alt=\"Open In Colab\"/></a>"
      ]
    },
    {
      "cell_type": "markdown",
      "source": [
        "# Calculadora IMC"
      ],
      "metadata": {
        "id": "zfemqXBWhnht"
      }
    },
    {
      "cell_type": "markdown",
      "source": [
        "##Entrada de dados"
      ],
      "metadata": {
        "id": "emhNe8ZPhu7b"
      }
    },
    {
      "cell_type": "code",
      "execution_count": null,
      "metadata": {
        "colab": {
          "base_uri": "https://localhost:8080/"
        },
        "id": "05jrWlHWhErv",
        "outputId": "3f49dd55-e89e-41b4-9839-b1abf7599d34"
      },
      "outputs": [
        {
          "name": "stdout",
          "output_type": "stream",
          "text": [
            "Digite o nome do aluno: João\n",
            "Digite a idade do aluno: 39\n",
            "Digite o peso do aluno: 100\n",
            "Digite a altura do aluno:1.61\n"
          ]
        }
      ],
      "source": [
        "nome = input (\"Digite o nome do aluno: \")\n",
        "idade = input (\"Digite a idade do aluno: \")\n",
        "peso = input (\"Digite o peso do aluno: \")\n",
        "altura = input  (\"Digite a altura do aluno:\")"
      ]
    },
    {
      "cell_type": "markdown",
      "source": [
        "### Calulando IMC"
      ],
      "metadata": {
        "id": "lTSGaH1shzQo"
      }
    },
    {
      "cell_type": "code",
      "source": [
        "imc = float (peso) / (float (altura) **2 )"
      ],
      "metadata": {
        "id": "1frlEoz0h8TH"
      },
      "execution_count": null,
      "outputs": []
    },
    {
      "cell_type": "code",
      "source": [
        "print(imc)"
      ],
      "metadata": {
        "colab": {
          "base_uri": "https://localhost:8080/"
        },
        "id": "qpenqiYoipib",
        "outputId": "c2c38d4d-702e-4345-ab92-2e0ce95fecf2"
      },
      "execution_count": null,
      "outputs": [
        {
          "output_type": "stream",
          "name": "stdout",
          "text": [
            "38.57875853555032\n"
          ]
        }
      ]
    },
    {
      "cell_type": "markdown",
      "source": [
        "## Criando Status"
      ],
      "metadata": {
        "id": "YsriZdpjlO7s"
      }
    },
    {
      "cell_type": "code",
      "source": [
        "#IMC > que 25 = Sobrepeso\n"
      ],
      "metadata": {
        "id": "3zLJgZq9lVAx"
      },
      "execution_count": null,
      "outputs": []
    },
    {
      "cell_type": "code",
      "source": [
        "status = \"dentro do peso\"\n",
        "if imc > 25:\n",
        "    status = \"sobrepeso\""
      ],
      "metadata": {
        "id": "Xg_OK3pFlbS_"
      },
      "execution_count": null,
      "outputs": []
    },
    {
      "cell_type": "code",
      "source": [
        "print (status)"
      ],
      "metadata": {
        "colab": {
          "base_uri": "https://localhost:8080/"
        },
        "id": "LL5Z-pFlIivw",
        "outputId": "6885bdda-3cec-450e-e9d0-8311ec87e150"
      },
      "execution_count": null,
      "outputs": [
        {
          "output_type": "stream",
          "name": "stdout",
          "text": [
            "sobrepeso\n"
          ]
        }
      ]
    },
    {
      "cell_type": "markdown",
      "source": [
        "# Gerando PDF"
      ],
      "metadata": {
        "id": "aM0yVm7nl4qn"
      }
    },
    {
      "cell_type": "code",
      "source": [
        "!pip install pdf_reports"
      ],
      "metadata": {
        "id": "dGcqXyDvl8p7"
      },
      "execution_count": null,
      "outputs": []
    },
    {
      "cell_type": "code",
      "source": [
        "import pdf_reports"
      ],
      "metadata": {
        "id": "PVI3_3-QmHyT"
      },
      "execution_count": null,
      "outputs": []
    },
    {
      "cell_type": "code",
      "source": [
        "dados_aluno = {\n",
        "    \"nome\" : nome,\n",
        "    \"idade\" : idade,\n",
        "    \"peso\" : peso,\n",
        "    \"altura\" : altura,\n",
        "    \"imc\" :round(imc,2),\n",
        "    \"status\" : status,\n",
        "}"
      ],
      "metadata": {
        "id": "KS8qq3tRnjaf"
      },
      "execution_count": null,
      "outputs": []
    },
    {
      "cell_type": "code",
      "source": [
        "template = pdf_reports.pug_to_html(\"template.pug\", dados=dados_aluno)"
      ],
      "metadata": {
        "id": "Pi-71J98KOl6"
      },
      "execution_count": null,
      "outputs": []
    },
    {
      "cell_type": "code",
      "source": [
        "pdf_reports.write_report(template, \"ficha_aluno.pdf\", use_default_styling= False)"
      ],
      "metadata": {
        "id": "KKoi5X7iLNsm"
      },
      "execution_count": null,
      "outputs": []
    }
  ]
}