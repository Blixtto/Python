{
  "nbformat": 4,
  "nbformat_minor": 0,
  "metadata": {
    "colab": {
      "provenance": [],
      "authorship_tag": "ABX9TyPwJQWE8Y0xRREglGSAv7+6",
      "include_colab_link": true
    },
    "kernelspec": {
      "name": "python3",
      "display_name": "Python 3"
    },
    "language_info": {
      "name": "python"
    }
  },
  "cells": [
    {
      "cell_type": "markdown",
      "metadata": {
        "id": "view-in-github",
        "colab_type": "text"
      },
      "source": [
        "<a href=\"https://colab.research.google.com/github/Blixtto/Python/blob/main/GeradorExcel.ipynb\" target=\"_parent\"><img src=\"https://colab.research.google.com/assets/colab-badge.svg\" alt=\"Open In Colab\"/></a>"
      ]
    },
    {
      "cell_type": "markdown",
      "source": [
        "# Gerados de arquivo Excel\n",
        "##### Esse script Phyton busca dados de um determinada ação financeira na base de dados do yahoo finanças e gera um arquivo excel"
      ],
      "metadata": {
        "id": "xCKGEW2hf8vK"
      }
    },
    {
      "cell_type": "code",
      "execution_count": null,
      "metadata": {
        "id": "rvsfLOdAecT7"
      },
      "outputs": [],
      "source": [
        "!pip install yfinance"
      ]
    },
    {
      "cell_type": "code",
      "source": [
        "import yfinance as yf\n",
        "def gerar_arquivo_excel(codigo_acao, dt_inicial, dt_final):\n",
        "    dados_acao = yf.download(codigo_acao, start=dt_inicial, end=dt_final)\n",
        "    nome_arquivo = f\"{codigo_acao}_{dt_inicial}_{dt_final}.xlsx\"\n",
        "    dados_acao.to_excel(nome_arquivo)\n",
        "    print(f\"Arquivo Excel '{nome_arquivo}' gerado com sucesso!\")\n",
        "\n",
        "print (\"Seja bem vindo ao gerador de arquivo Excel\")\n",
        "print(\"-----------------------------------------------\")\n",
        "codigo_acao = input(\"Digite o código da ação: \")\n",
        "dt_inicial = input(\"Digite a data inicial (AAAA-MM-DD): \")\n",
        "dt_final = input(\"Digite a data final (AAAA-MM-DD): \")\n",
        "\n",
        "gerar_arquivo_excel(codigo_acao, dt_inicial, dt_final)"
      ],
      "metadata": {
        "colab": {
          "base_uri": "https://localhost:8080/"
        },
        "id": "UaI3R_7EhNmk",
        "outputId": "5677c884-7eeb-4ddd-df0e-1b43cb0484f2"
      },
      "execution_count": null,
      "outputs": [
        {
          "output_type": "stream",
          "name": "stdout",
          "text": [
            "Seja bem vindo ao gerador de arquivo Excel\n"
          ]
        }
      ]
    },
    {
      "cell_type": "code",
      "source": [],
      "metadata": {
        "id": "erfvZw5nhQk6"
      },
      "execution_count": null,
      "outputs": []
    }
  ]
}